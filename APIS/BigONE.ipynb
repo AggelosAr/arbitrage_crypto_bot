{
 "cells": [
  {
   "cell_type": "code",
   "execution_count": 1,
   "id": "bb29820e",
   "metadata": {},
   "outputs": [],
   "source": [
    "import requests\n",
    "import json"
   ]
  },
  {
   "cell_type": "markdown",
   "id": "5558ee7e",
   "metadata": {},
   "source": [
    "BigONE\n",
    "\n",
    "# https://big.one/en\n",
    "\n",
    "## https://open.big.one/\n",
    "\n",
    "### https://big.one/api/v3/"
   ]
  },
  {
   "cell_type": "code",
   "execution_count": 15,
   "id": "9ddd4652",
   "metadata": {},
   "outputs": [],
   "source": [
    "def get_tickers_BigONE():\n",
    "    \n",
    "    try:\n",
    "        URL = \"https://big.one/api/v3/asset_pairs/tickers\"\n",
    "        location = \"!\"\n",
    "        PARAMS = {'address':location}\n",
    "\n",
    "        r = requests.get(url = URL, params = PARAMS)\n",
    "    except:\n",
    "        return \"ERROR in get_markets_BigONE\"\n",
    "    \n",
    "    tickers = r.json()\n",
    "    \n",
    "    if len(tickers[\"data\"]) > 0:\n",
    "        \n",
    "        try:\n",
    "            return [[d[\"asset_pair_name\"], d[\"ask\"][\"price\"]] for d in tickers[\"data\"]]\n",
    "        except:\n",
    "            return \"ERROR in get_markets_BigONE\"\n",
    "    else:\n",
    "        return \"ERROR in get_markets_BigONE\"\n",
    "\n",
    "    "
   ]
  }
 ],
 "metadata": {
  "kernelspec": {
   "display_name": "Python 3 (ipykernel)",
   "language": "python",
   "name": "python3"
  },
  "language_info": {
   "codemirror_mode": {
    "name": "ipython",
    "version": 3
   },
   "file_extension": ".py",
   "mimetype": "text/x-python",
   "name": "python",
   "nbconvert_exporter": "python",
   "pygments_lexer": "ipython3",
   "version": "3.9.12"
  }
 },
 "nbformat": 4,
 "nbformat_minor": 5
}
