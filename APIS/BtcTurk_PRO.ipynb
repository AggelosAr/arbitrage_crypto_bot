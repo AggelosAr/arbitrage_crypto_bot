{
 "cells": [
  {
   "cell_type": "code",
   "execution_count": null,
   "id": "27c81d57",
   "metadata": {},
   "outputs": [],
   "source": [
    "import requests\n",
    "import json"
   ]
  },
  {
   "cell_type": "markdown",
   "id": "a0ed6ce3",
   "metadata": {},
   "source": [
    "# BtcTurk PRO\n",
    "\n",
    "## https://pro.btcturk.com/\n",
    "\n",
    "## https://docs.btcturk.com/\n",
    "\n",
    "### https://api.btcturk.com/api/v2/"
   ]
  },
  {
   "cell_type": "code",
   "execution_count": null,
   "id": "38fcf7df",
   "metadata": {},
   "outputs": [],
   "source": [
    "\n",
    "\n",
    "def get_tickers_BtcTurk_PRO():\n",
    "    \n",
    "    try:\n",
    "        URL = \"https://api.btcturk.com/api/v2/ticker\"\n",
    "        location = \"!\"\n",
    "        PARAMS = {'address':location}\n",
    "\n",
    "        r = requests.get(url = URL, params = PARAMS)\n",
    "    except:\n",
    "        return \"ERROR in get_tickers_BtcTurk_PRO\"\n",
    "    \n",
    "    tickers = r.json()\n",
    "    \n",
    "    \n",
    "    if len(tickers[\"data\"]) > 0:\n",
    "        \n",
    "        try:\n",
    "            return [[d[\"pair\"], d[\"last\"]] for d in tickers[\"data\"]]\n",
    "        except:\n",
    "            return \"ERROR in get_tickers_BtcTurk_PRO\"\n",
    "    else:\n",
    "        return \"ERROR in get_tickers_BtcTurk_PRO\"\n"
   ]
  }
 ],
 "metadata": {
  "kernelspec": {
   "display_name": "Python 3 (ipykernel)",
   "language": "python",
   "name": "python3"
  },
  "language_info": {
   "codemirror_mode": {
    "name": "ipython",
    "version": 3
   },
   "file_extension": ".py",
   "mimetype": "text/x-python",
   "name": "python",
   "nbconvert_exporter": "python",
   "pygments_lexer": "ipython3",
   "version": "3.9.12"
  }
 },
 "nbformat": 4,
 "nbformat_minor": 5
}
