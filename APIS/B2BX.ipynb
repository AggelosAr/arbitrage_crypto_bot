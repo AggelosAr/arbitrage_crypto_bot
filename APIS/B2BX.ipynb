{
 "cells": [
  {
   "cell_type": "code",
   "execution_count": 1,
   "id": "1ceec0dc",
   "metadata": {},
   "outputs": [],
   "source": [
    "import requests\n",
    "import json"
   ]
  },
  {
   "cell_type": "markdown",
   "id": "8ef7a385",
   "metadata": {},
   "source": [
    "# B2BX \n",
    "\n",
    "## https://www.b2bx.exchange/\n",
    "\n",
    "## https://docs.b2bx.exchange/en/_docs/api-reference.html"
   ]
  },
  {
   "cell_type": "code",
   "execution_count": 2,
   "id": "033a5a27",
   "metadata": {},
   "outputs": [],
   "source": [
    "\n",
    "def get_tickers_B2BX():\n",
    "    \n",
    "    try:\n",
    "        URL = \"https://cmc-gate.b2bx.exchange/marketdata/cmc/v1/ticker\"\n",
    "        location = \"!\"\n",
    "        PARAMS = {'address':location}\n",
    "\n",
    "        r = requests.get(url = URL, params = PARAMS)\n",
    "    except:\n",
    "        return \"ERROR in get_tickers_B2BX\"\n",
    "    \n",
    "    tickers = r.json()\n",
    "    \n",
    "    if len(tickers) > 0:\n",
    "#[ [item , a[item][\"base_name\"],a[item][\"quote_name\"], a[item][\"last_price\"]]  for item in a]\n",
    "        try:\n",
    "            return [ [d , tickers[d][\"last_price\"]]  for d in tickers]\n",
    "        except:\n",
    "            return \"ERROR in get_tickers_B2BX\"\n",
    "    else:\n",
    "        return \"ERROR in get_tickers_B2BX\"\n",
    "    "
   ]
  }
 ],
 "metadata": {
  "kernelspec": {
   "display_name": "Python 3 (ipykernel)",
   "language": "python",
   "name": "python3"
  },
  "language_info": {
   "codemirror_mode": {
    "name": "ipython",
    "version": 3
   },
   "file_extension": ".py",
   "mimetype": "text/x-python",
   "name": "python",
   "nbconvert_exporter": "python",
   "pygments_lexer": "ipython3",
   "version": "3.9.12"
  }
 },
 "nbformat": 4,
 "nbformat_minor": 5
}
