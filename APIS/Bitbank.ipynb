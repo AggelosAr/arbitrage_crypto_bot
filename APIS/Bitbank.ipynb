{
 "cells": [
  {
   "cell_type": "code",
   "execution_count": null,
   "id": "98372b8c",
   "metadata": {},
   "outputs": [],
   "source": [
    "import requests\n",
    "import json"
   ]
  },
  {
   "cell_type": "markdown",
   "id": "dc9ad31b",
   "metadata": {},
   "source": [
    "# Bitbank \n",
    "\n",
    "## https://bitbank.cc/en\n",
    "\n",
    "## https://github.com/bitbankinc/bitbank-api-docs/blob/master/public-api.md"
   ]
  },
  {
   "cell_type": "code",
   "execution_count": null,
   "id": "7c076be7",
   "metadata": {},
   "outputs": [],
   "source": [
    "\n",
    "\n",
    "def get_tickers_Bitbank():\n",
    "    \n",
    "    try:\n",
    "        URL = \"https://public.bitbank.cc/tickers\"\n",
    "        location = \"!\"\n",
    "        PARAMS = {'address':location}\n",
    "\n",
    "        r = requests.get(url = URL, params = PARAMS)\n",
    "    except:\n",
    "        return \"ERROR in get_tickers_Bitbank\"\n",
    "    \n",
    "    tickers = r.json()\n",
    "    \n",
    "    if len(tickers[\"data\"]) > 0:\n",
    "        \n",
    "        try:\n",
    "            return [[d[\"pair\"].upper(), d[\"last\"]] for d in tickers[\"data\"]]\n",
    "        except:\n",
    "            return \"ERROR in get_tickers_Bitbank\"\n",
    "    else:\n",
    "        return \"ERROR in get_tickers_Bitbank\"\n",
    "    \n",
    "    "
   ]
  }
 ],
 "metadata": {
  "kernelspec": {
   "display_name": "Python 3 (ipykernel)",
   "language": "python",
   "name": "python3"
  },
  "language_info": {
   "codemirror_mode": {
    "name": "ipython",
    "version": 3
   },
   "file_extension": ".py",
   "mimetype": "text/x-python",
   "name": "python",
   "nbconvert_exporter": "python",
   "pygments_lexer": "ipython3",
   "version": "3.9.12"
  }
 },
 "nbformat": 4,
 "nbformat_minor": 5
}
