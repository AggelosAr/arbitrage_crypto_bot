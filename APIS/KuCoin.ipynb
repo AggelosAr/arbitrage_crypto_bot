{
 "cells": [
  {
   "cell_type": "code",
   "execution_count": null,
   "id": "6726b0af",
   "metadata": {},
   "outputs": [],
   "source": [
    "import requests\n",
    "import json"
   ]
  },
  {
   "cell_type": "markdown",
   "id": "055785c1",
   "metadata": {},
   "source": [
    "# KuCoin \n",
    "\n",
    "## https://www.kucoin.com/\n",
    "\n",
    "## https://docs.kucoin.com/#general\n",
    "\n"
   ]
  },
  {
   "cell_type": "code",
   "execution_count": null,
   "id": "93c80af7",
   "metadata": {},
   "outputs": [],
   "source": [
    "\n",
    "def get_tickers_KuCoin():\n",
    "    \n",
    "    \n",
    "    try:\n",
    "        URL = \"https://api.kucoin.com/api/v1/market/allTickers\"\n",
    "        location = \"!\"\n",
    "        PARAMS = {'address':location}\n",
    "\n",
    "        r = requests.get(url = URL, params = PARAMS)\n",
    "\n",
    "        tickers = r.json()\n",
    "        \n",
    "        \n",
    "        \n",
    "        if len(tickers[\"data\"][\"ticker\"]) > 0:\n",
    "            \n",
    "            return [   [d[\"symbol\"], d[\"last\"]]  for d in tickers[\"data\"][\"ticker\"]]\n",
    "            \n",
    "        else:\n",
    "            return \"ERROR in get_tickers_KuCoin\"\n",
    "            \n",
    "    except:\n",
    "        return \"ERROR in get_tickers_KuCoin\"\n",
    "    \n"
   ]
  }
 ],
 "metadata": {
  "kernelspec": {
   "display_name": "Python 3",
   "language": "python",
   "name": "python3"
  },
  "language_info": {
   "codemirror_mode": {
    "name": "ipython",
    "version": 3
   },
   "file_extension": ".py",
   "mimetype": "text/x-python",
   "name": "python",
   "nbconvert_exporter": "python",
   "pygments_lexer": "ipython3",
   "version": "3.7.9"
  }
 },
 "nbformat": 4,
 "nbformat_minor": 5
}
