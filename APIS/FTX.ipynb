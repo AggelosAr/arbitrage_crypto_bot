{
 "cells": [
  {
   "cell_type": "code",
   "execution_count": null,
   "id": "4c51f72c",
   "metadata": {},
   "outputs": [],
   "source": [
    "import requests\n",
    "import json"
   ]
  },
  {
   "cell_type": "markdown",
   "id": "ca52319f",
   "metadata": {},
   "source": [
    "# FTX\n",
    "\n",
    "## https://ftx.com/\n",
    "\n",
    "## https://docs.ftx.com/#overview\n",
    "\n",
    "### https://ftx.com/api"
   ]
  },
  {
   "cell_type": "code",
   "execution_count": null,
   "id": "f3ca9e72",
   "metadata": {},
   "outputs": [],
   "source": [
    "\n",
    "def get_tickers_FTX():\n",
    "    \n",
    "    try:\n",
    "        URL = \"https://ftx.com/api/markets\"\n",
    "        location = \"!\"\n",
    "        PARAMS = {'address':location}\n",
    "\n",
    "        r = requests.get(url = URL, params = PARAMS)\n",
    "\n",
    "        markets = r.json()\n",
    "\n",
    "        \n",
    "\n",
    "        return [[i[\"name\"], i[\"price\"]] for i in markets['result']]\n",
    "    except:\n",
    "        return \"ERROR in get_markets_FTX\"\n"
   ]
  }
 ],
 "metadata": {
  "kernelspec": {
   "display_name": "Python 3 (ipykernel)",
   "language": "python",
   "name": "python3"
  },
  "language_info": {
   "codemirror_mode": {
    "name": "ipython",
    "version": 3
   },
   "file_extension": ".py",
   "mimetype": "text/x-python",
   "name": "python",
   "nbconvert_exporter": "python",
   "pygments_lexer": "ipython3",
   "version": "3.9.12"
  }
 },
 "nbformat": 4,
 "nbformat_minor": 5
}
