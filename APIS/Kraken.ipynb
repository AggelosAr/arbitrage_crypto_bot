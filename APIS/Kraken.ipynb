{
 "cells": [
  {
   "cell_type": "code",
   "execution_count": 3,
   "id": "8959f6e9",
   "metadata": {},
   "outputs": [],
   "source": [
    "import requests\n",
    "import json\n",
    "import numpy as np"
   ]
  },
  {
   "cell_type": "markdown",
   "id": "59753bbd",
   "metadata": {},
   "source": [
    "# Kraken\n",
    "\n",
    "## https://www.kraken.com/\n",
    "\n",
    "## https://docs.kraken.com/rest/\n",
    "\n",
    "### https://api.kraken.com/0/public/AssetPairs"
   ]
  },
  {
   "cell_type": "code",
   "execution_count": 4,
   "id": "079f575f",
   "metadata": {},
   "outputs": [],
   "source": [
    "\n",
    "\n",
    "def get_pairs_Kraken():\n",
    "    \n",
    "    URL = \"https://api.kraken.com/0/public/AssetPairs\"\n",
    "    location = \"!\"\n",
    "    PARAMS = {'address':location}\n",
    "    \n",
    "    r = requests.get(url = URL, params = PARAMS)\n",
    "    \n",
    "    pairs = r.json()\n",
    "    \n",
    "    all_pairs = pairs[\"result\"]\n",
    "    \n",
    "    temp = []\n",
    "    for coin in all_pairs:\n",
    "        try:\n",
    "            temp.append([all_pairs[coin][\"altname\"], all_pairs[coin][\"wsname\"]])\n",
    "        except KeyError:\n",
    "            pass\n",
    "\n",
    "    return np.array(temp)\n",
    "\n",
    "\n",
    "    \n",
    "    \n",
    "def get_tickers_Kraken(pairs):\n",
    "    \n",
    "    # Make the list of all pairs into a string seperated by comas.\n",
    "    \n",
    "    end_url = \",\".join(pairs[:,0])\n",
    "    print(end_url)\n",
    "    URL = \"https://api.kraken.com/0/public/Ticker?pair=\"\n",
    "    \n",
    "    URL += end_url\n",
    "    \n",
    "    location = \"!\"\n",
    "    PARAMS = {'address':location}\n",
    "    \n",
    "    r = requests.get(url = URL, params = PARAMS)\n",
    "    \n",
    "    ticker = r.json()\n",
    "    \n",
    "    \n",
    "\n",
    "    return ticker"
   ]
  },
  {
   "cell_type": "code",
   "execution_count": 5,
   "id": "01c4403b",
   "metadata": {},
   "outputs": [
    {
     "name": "stdout",
     "output_type": "stream",
     "text": [
      "AAVEAUD,AAVEETH,AAVEEUR,AAVEGBP,AAVEUSD,AAVEXBT,ADAAUD,ADAETH,ADAEUR,ADAGBP,ADAUSD,ADAUSDT,ADAXBT,ALGOETH,ALGOEUR,ALGOGBP,ALGOUSD,ALGOXBT,ANKREUR,ANKRGBP,ANKRUSD,ANKRXBT,ANTETH,ANTEUR,ANTUSD,ANTXBT,ATOMAUD,ATOMETH,ATOMEUR,ATOMGBP,ATOMUSD,ATOMXBT,AUDJPY,AUDUSD,AXSEUR,AXSUSD,BALETH,BALEUR,BALUSD,BALXBT,BATETH,BATEUR,BATUSD,BATXBT,BCHAUD,BCHETH,BCHEUR,BCHGBP,BCHJPY,BCHUSD,BCHUSDT,BCHXBT,BNTEUR,BNTGBP,BNTUSD,BNTXBT,CHZEUR,CHZUSD,COMPETH,COMPEUR,COMPUSD,COMPXBT,CQTEUR,CQTUSD,CRVETH,CRVEUR,CRVUSD,CRVXBT,DAIEUR,DAIUSD,DAIUSDT,DASHEUR,DASHUSD,DASHXBT,DOTAUD,DOTETH,DOTEUR,DOTGBP,DOTUSD,DOTUSDT,DOTXBT,ENJEUR,ENJGBP,ENJUSD,ENJXBT,EOSETH,EOSEUR,EOSUSD,EOSUSDT,EOSXBT,ETH2.SETH,ETHAUD,ETHCHF,ETHDAI,ETHUSDC,ETHUSDT,EURAUD,EURCAD,EURCHF,EURGBP,EURJPY,EWTEUR,EWTGBP,EWTUSD,EWTXBT,FILAUD,FILETH,FILEUR,FILGBP,FILUSD,FILXBT,FLOWETH,FLOWEUR,FLOWGBP,FLOWUSD,FLOWXBT,GHSTEUR,GHSTGBP,GHSTUSD,GHSTXBT,GNOETH,GNOEUR,GNOUSD,GNOXBT,GRTAUD,GRTETH,GRTEUR,GRTGBP,GRTUSD,GRTXBT,ICXETH,ICXEUR,ICXUSD,ICXXBT,KAREUR,KARUSD,KAVAETH,KAVAEUR,KAVAUSD,KAVAXBT,KEEPETH,KEEPEUR,KEEPUSD,KEEPXBT,KNCETH,KNCEUR,KNCUSD,KNCXBT,KSMAUD,KSMDOT,KSMETH,KSMEUR,KSMGBP,KSMUSD,KSMXBT,LINKAUD,LINKETH,LINKEUR,LINKGBP,LINKUSD,LINKUSDT,LINKXBT,LPTEUR,LPTGBP,LPTUSD,LPTXBT,LSKETH,LSKEUR,LSKUSD,LSKXBT,LTCAUD,LTCETH,LTCGBP,LTCUSDT,MANAETH,MANAEUR,MANAUSD,MANAXBT,MATICEUR,MATICGBP,MATICUSD,MATICXBT,MINAEUR,MINAGBP,MINAUSD,MINAXBT,MKREUR,MKRGBP,MKRUSD,MKRXBT,NANOETH,NANOEUR,NANOUSD,NANOXBT,OCEANEUR,OCEANGBP,OCEANUSD,OCEANXBT,OGNEUR,OGNUSD,OMGETH,OMGEUR,OMGUSD,OMGXBT,OXTETH,OXTEUR,OXTUSD,OXTXBT,PAXGETH,PAXGEUR,PAXGUSD,PAXGXBT,PERPEUR,PERPUSD,QTUMETH,QTUMEUR,QTUMUSD,QTUMXBT,RARIEUR,RARIGBP,RARIUSD,RARIXBT,RENEUR,RENGBP,RENUSD,RENXBT,REPV2ETH,REPV2EUR,REPV2USD,REPV2XBT,SANDEUR,SANDGBP,SANDUSD,SANDXBT,SCETH,SCEUR,SCUSD,SCXBT,SNXAUD,SNXETH,SNXEUR,SNXGBP,SNXUSD,SNXXBT,SOLEUR,SOLGBP,SOLUSD,SOLXBT,SRMEUR,SRMGBP,SRMUSD,SRMXBT,STORJETH,STORJEUR,STORJUSD,STORJXBT,SUSHIEUR,SUSHIGBP,SUSHIUSD,SUSHIXBT,TBTCETH,TBTCEUR,TBTCUSD,TBTCXBT,TRXETH,TRXEUR,TRXUSD,TRXXBT,UNIETH,UNIEUR,UNIUSD,UNIXBT,USDCAUD,USDCEUR,USDCGBP,USDCHF,USDCUSD,USDCUSDT,USDTAUD,USDTCAD,USDTCHF,USDTEUR,USDTGBP,USDTJPY,USDTUSD,WAVESETH,WAVESEUR,WAVESUSD,WAVESXBT,XBTAUD,XBTCHF,XBTDAI,XBTUSDC,XBTUSDT,XDGEUR,XDGUSD,XDGUSDT,ETCETH,ETCXBT,ETCEUR,ETCUSD,ETHXBT,ETHCAD,ETHEUR,ETHGBP,ETHJPY,ETHUSD,LTCXBT,LTCEUR,LTCJPY,LTCUSD,MLNETH,MLNXBT,MLNEUR,MLNUSD,REPETH,REPXBT,REPEUR,REPUSD,XRPAUD,XRPETH,XRPGBP,XRPUSDT,XTZAUD,XTZETH,XTZEUR,XTZGBP,XTZUSD,XTZXBT,XBTCAD,XBTEUR,XBTGBP,XBTJPY,XBTUSD,XDGXBT,XLMXBT,XLMAUD,XLMEUR,XLMGBP,XLMUSD,XMRXBT,XMREUR,XMRUSD,XRPXBT,XRPCAD,XRPEUR,XRPJPY,XRPUSD,ZECXBT,ZECEUR,ZECUSD,YFIAUD,YFIETH,YFIEUR,YFIGBP,YFIUSD,YFIXBT,EURUSD,GBPUSD,ZRXEUR,ZRXGBP,ZRXUSD,ZRXXBT,USDCAD,USDJPY\n"
     ]
    }
   ],
   "source": [
    "\n",
    "#pairs = get_pairs_Kraken()\n",
    "\n",
    "\n",
    "#tickers = get_ticker_Kraken(pairs)\n",
    "\n",
    "\n",
    "#needs account to see which is correct"
   ]
  },
  {
   "cell_type": "code",
   "execution_count": 12,
   "id": "6a7dc913",
   "metadata": {},
   "outputs": [
    {
     "name": "stdout",
     "output_type": "stream",
     "text": [
      "{'a': ['2191.708000', '3', '3.000'], 'b': ['2189.205000', '3', '3.000'], 'c': ['2190.043000', '0.03000000'], 'v': ['2.80871824', '325.85728636'], 'p': ['2162.308549', '2035.032929'], 't': [19, 90], 'l': ['2124.920000', '2000.000000'], 'h': ['2190.043000', '2190.043000'], 'o': '2138.862000'}\n"
     ]
    }
   ],
   "source": [
    "#print(tickers[\"result\"][\"ETHDAI\"])"
   ]
  },
  {
   "cell_type": "code",
   "execution_count": null,
   "id": "8f5bbc94",
   "metadata": {},
   "outputs": [],
   "source": []
  }
 ],
 "metadata": {
  "kernelspec": {
   "display_name": "Python 3 (ipykernel)",
   "language": "python",
   "name": "python3"
  },
  "language_info": {
   "codemirror_mode": {
    "name": "ipython",
    "version": 3
   },
   "file_extension": ".py",
   "mimetype": "text/x-python",
   "name": "python",
   "nbconvert_exporter": "python",
   "pygments_lexer": "ipython3",
   "version": "3.9.12"
  }
 },
 "nbformat": 4,
 "nbformat_minor": 5
}
