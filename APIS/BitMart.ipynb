{
 "cells": [
  {
   "cell_type": "code",
   "execution_count": null,
   "id": "d2a8363a",
   "metadata": {},
   "outputs": [],
   "source": [
    "import requests\n",
    "import json"
   ]
  },
  {
   "cell_type": "markdown",
   "id": "3e5152f8",
   "metadata": {},
   "source": [
    "# BitMart\n",
    "\n",
    "## https://www.bitmart.com/\n",
    "\n",
    "## https://developer-pro.bitmart.com/en/\n",
    "\n",
    "### https://api-cloud.bitmart.com/"
   ]
  },
  {
   "cell_type": "code",
   "execution_count": null,
   "id": "5955e0c9",
   "metadata": {},
   "outputs": [],
   "source": [
    "\n",
    "def get_symbols_BitMart():\n",
    "    \n",
    "    \n",
    "    try:\n",
    "        URL = \"https://api-cloud.bitmart.com/spot/v1/symbols\"\n",
    "        location = \"!\"\n",
    "        PARAMS = {'address':location}\n",
    "\n",
    "        r = requests.get(url = URL, params = PARAMS)\n",
    "\n",
    "        markets = r.json()\n",
    "        if markets[\"message\"] == \"OK\":\n",
    "            return markets[\"data\"][\"symbols\"]\n",
    "        else:\n",
    "            return \"ERROR in get_pairs_BitMart\"\n",
    "    except:\n",
    "        return \"ERROR in get_pairs_BitMart\"\n",
    "    \n",
    "    \n",
    "def get_tickers_BitMart():\n",
    "    \n",
    "    \n",
    "    try:\n",
    "        URL = \"https://api-cloud.bitmart.com/spot/v1/ticker\"\n",
    "        location = \"!\"\n",
    "        PARAMS = {'address':location}\n",
    "\n",
    "        r = requests.get(url = URL, params = PARAMS)\n",
    "\n",
    "        ticker = r.json()\n",
    "        if ticker[\"message\"] == \"OK\":\n",
    "            \n",
    "            return [ [d['symbol'],d[\"last_price\"]] for d in ticker[\"data\"][\"tickers\"] ]\n",
    "        else:\n",
    "            return \"ERROR in get_ticker_BitMart\"\n",
    "            \n",
    "    except:\n",
    "        return \"ERROR in get_ticker_BitMart\""
   ]
  }
 ],
 "metadata": {
  "kernelspec": {
   "display_name": "Python 3 (ipykernel)",
   "language": "python",
   "name": "python3"
  },
  "language_info": {
   "codemirror_mode": {
    "name": "ipython",
    "version": 3
   },
   "file_extension": ".py",
   "mimetype": "text/x-python",
   "name": "python",
   "nbconvert_exporter": "python",
   "pygments_lexer": "ipython3",
   "version": "3.9.12"
  }
 },
 "nbformat": 4,
 "nbformat_minor": 5
}
