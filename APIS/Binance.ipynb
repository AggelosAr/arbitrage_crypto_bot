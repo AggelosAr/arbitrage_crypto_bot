{
 "cells": [
  {
   "cell_type": "code",
   "execution_count": null,
   "id": "e18d9eb2",
   "metadata": {},
   "outputs": [],
   "source": [
    "import urllib.request\n",
    "import json\n",
    "\n",
    "#from binance.client import Client"
   ]
  },
  {
   "cell_type": "markdown",
   "id": "df8470c6",
   "metadata": {},
   "source": [
    "# Binance\n",
    "\n",
    "## https://www.binance.com/en\n",
    "\n",
    "## https://binance-docs.github.io/apidocs/spot/en/#general-info\n",
    "\n",
    "\n",
    "\n",
    "\n",
    "APIS\n",
    "## https://api1.binance.com\n",
    "## https://api2.binance.com\n",
    "## https://api3.binance.com"
   ]
  },
  {
   "cell_type": "code",
   "execution_count": null,
   "id": "0282b9ff",
   "metadata": {},
   "outputs": [],
   "source": [
    "    \n",
    "def get_tickers_Binance():\n",
    "    try:\n",
    "        tickers = urllib.request.urlopen(\"https://api1.binance.com/api/v3/ticker/price\").read()\n",
    "        tickers = json.loads(tickers)\n",
    "        \n",
    "        return [[ i[\"symbol\"], i[\"price\"]] for i in tickers]\n",
    "    except:\n",
    "        return \"ERROR in get_trades_Binance\"\n"
   ]
  }
 ],
 "metadata": {
  "kernelspec": {
   "display_name": "Python 3 (ipykernel)",
   "language": "python",
   "name": "python3"
  },
  "language_info": {
   "codemirror_mode": {
    "name": "ipython",
    "version": 3
   },
   "file_extension": ".py",
   "mimetype": "text/x-python",
   "name": "python",
   "nbconvert_exporter": "python",
   "pygments_lexer": "ipython3",
   "version": "3.9.12"
  }
 },
 "nbformat": 4,
 "nbformat_minor": 5
}
