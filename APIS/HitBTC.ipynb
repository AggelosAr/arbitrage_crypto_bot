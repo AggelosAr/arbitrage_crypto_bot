{
 "cells": [
  {
   "cell_type": "code",
   "execution_count": null,
   "id": "eb205671",
   "metadata": {},
   "outputs": [],
   "source": [
    "import urllib.request\n",
    "import json"
   ]
  },
  {
   "cell_type": "markdown",
   "id": "dba7c1e4",
   "metadata": {},
   "source": [
    "# HitBTC \n",
    "\n",
    "## https://hitbtc.com/\n",
    "\n",
    "## https://api.hitbtc.com/\n",
    "\n",
    "## https://api.demo.hitbtc.com/\n",
    "\n",
    "1. https://api.hitbtc.com/api/3          # REAL\n",
    "\n",
    "1. https://api.demo.hitbtc.com/api/3/       #  DEMO \n",
    "\n",
    "\n",
    "<p> get_pairs ->      GET ALL PAIRS </p>\n",
    "\n",
    "<p> get_currencies ->      GET ALL CURRENT TOKENS </p>\n",
    "\n",
    "<p> get_tickers ->      GET ALL INFO AND PRICES ON PAIRS </p>"
   ]
  },
  {
   "cell_type": "code",
   "execution_count": null,
   "id": "35475108",
   "metadata": {},
   "outputs": [],
   "source": [
    "\n",
    "def get_pairs_HitBTC():\n",
    "    \n",
    "    pairs = urllib.request.urlopen(\"https://api.hitbtc.com/api/3/public/symbol\").read()\n",
    "    pairs = json.loads(pairs)\n",
    "    \n",
    "    return [[pairs[i]['base_currency'],pairs[i]['quote_currency']] for i in pairs]\n",
    "\n",
    "\n",
    "def get_currencies_HitBTC():\n",
    "    \n",
    "    currencies = urllib.request.urlopen(\"https://api.hitbtc.com/api/3/public/currency\").read()\n",
    "    currencies = json.loads(currencies)\n",
    "    \n",
    "    return [i for i in currencies]\n",
    "\n",
    "\n",
    "def get_tickers__HitBTC():\n",
    "    \n",
    "    ticker = urllib.request.urlopen(\"https://api.hitbtc.com/api/3/public/ticker\").read()\n",
    "    ticker = json.loads(ticker)\n",
    "    return ticker\n",
    "    #return ticker\n",
    "    try:\n",
    "        tickers = [[i, ticker[i][\"last\"]] for i in ticker]\n",
    "    except:\n",
    "        return \"ERROR in get_ticker_HitBTC\"\n",
    "    \n",
    "    \n",
    "    for element in tickers:\n",
    "        try:\n",
    "            element[1] = float(element[1])\n",
    "        except:\n",
    "            tickers.remove(element)\n",
    "    \n",
    "    return tickers\n"
   ]
  }
 ],
 "metadata": {
  "kernelspec": {
   "display_name": "Python 3 (ipykernel)",
   "language": "python",
   "name": "python3"
  },
  "language_info": {
   "codemirror_mode": {
    "name": "ipython",
    "version": 3
   },
   "file_extension": ".py",
   "mimetype": "text/x-python",
   "name": "python",
   "nbconvert_exporter": "python",
   "pygments_lexer": "ipython3",
   "version": "3.9.12"
  }
 },
 "nbformat": 4,
 "nbformat_minor": 5
}
